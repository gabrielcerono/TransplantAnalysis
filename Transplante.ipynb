{
  "nbformat": 4,
  "nbformat_minor": 0,
  "metadata": {
    "colab": {
      "name": "Transplante.ipynb",
      "provenance": [],
      "collapsed_sections": [],
      "include_colab_link": true
    },
    "kernelspec": {
      "display_name": "Python 3",
      "name": "python3"
    }
  },
  "cells": [
    {
      "cell_type": "markdown",
      "metadata": {
        "id": "view-in-github",
        "colab_type": "text"
      },
      "source": [
        "<a href=\"https://colab.research.google.com/github/gabrielcerono/TransplantAnalysis/blob/main/Transplante.ipynb\" target=\"_parent\"><img src=\"https://colab.research.google.com/assets/colab-badge.svg\" alt=\"Open In Colab\"/></a>"
      ]
    },
    {
      "cell_type": "code",
      "metadata": {
        "colab": {
          "base_uri": "https://localhost:8080/"
        },
        "id": "0-otZ5liDS8w",
        "outputId": "11239e9d-6a6d-4bf0-80af-02fd8cc535c1"
      },
      "source": [
        "import pandas as pd\r\n",
        "import plotly.graph_objs as gobj\r\n",
        "import plotly.figure_factory as ff\r\n",
        "import plotly.express as px\r\n",
        "import numpy as np\r\n",
        "import matplotlib.pyplot as plt\r\n",
        "!pip install lifelines\r\n",
        "from lifelines import KaplanMeierFitter\r\n",
        "from lifelines import CoxPHFitter\r\n",
        "import sklearn as sk\r\n",
        "\r\n"
      ],
      "execution_count": null,
      "outputs": [
        {
          "output_type": "stream",
          "text": [
            "Collecting lifelines\n",
            "\u001b[?25l  Downloading https://files.pythonhosted.org/packages/80/75/5425e87009b69a5cfd8ad1104ee9b979e22beffd156b2409f4c771eda402/lifelines-0.25.7-py3-none-any.whl (347kB)\n",
            "\r\u001b[K     |█                               | 10kB 15.5MB/s eta 0:00:01\r\u001b[K     |█▉                              | 20kB 11.4MB/s eta 0:00:01\r\u001b[K     |██▉                             | 30kB 9.5MB/s eta 0:00:01\r\u001b[K     |███▊                            | 40kB 8.5MB/s eta 0:00:01\r\u001b[K     |████▊                           | 51kB 5.3MB/s eta 0:00:01\r\u001b[K     |█████▋                          | 61kB 5.3MB/s eta 0:00:01\r\u001b[K     |██████▋                         | 71kB 5.7MB/s eta 0:00:01\r\u001b[K     |███████▌                        | 81kB 6.1MB/s eta 0:00:01\r\u001b[K     |████████▌                       | 92kB 6.3MB/s eta 0:00:01\r\u001b[K     |█████████▍                      | 102kB 6.6MB/s eta 0:00:01\r\u001b[K     |██████████▍                     | 112kB 6.6MB/s eta 0:00:01\r\u001b[K     |███████████▎                    | 122kB 6.6MB/s eta 0:00:01\r\u001b[K     |████████████▎                   | 133kB 6.6MB/s eta 0:00:01\r\u001b[K     |█████████████▏                  | 143kB 6.6MB/s eta 0:00:01\r\u001b[K     |██████████████▏                 | 153kB 6.6MB/s eta 0:00:01\r\u001b[K     |███████████████                 | 163kB 6.6MB/s eta 0:00:01\r\u001b[K     |████████████████                | 174kB 6.6MB/s eta 0:00:01\r\u001b[K     |█████████████████               | 184kB 6.6MB/s eta 0:00:01\r\u001b[K     |██████████████████              | 194kB 6.6MB/s eta 0:00:01\r\u001b[K     |██████████████████▉             | 204kB 6.6MB/s eta 0:00:01\r\u001b[K     |███████████████████▉            | 215kB 6.6MB/s eta 0:00:01\r\u001b[K     |████████████████████▊           | 225kB 6.6MB/s eta 0:00:01\r\u001b[K     |█████████████████████▊          | 235kB 6.6MB/s eta 0:00:01\r\u001b[K     |██████████████████████▋         | 245kB 6.6MB/s eta 0:00:01\r\u001b[K     |███████████████████████▋        | 256kB 6.6MB/s eta 0:00:01\r\u001b[K     |████████████████████████▌       | 266kB 6.6MB/s eta 0:00:01\r\u001b[K     |█████████████████████████▌      | 276kB 6.6MB/s eta 0:00:01\r\u001b[K     |██████████████████████████▍     | 286kB 6.6MB/s eta 0:00:01\r\u001b[K     |███████████████████████████▍    | 296kB 6.6MB/s eta 0:00:01\r\u001b[K     |████████████████████████████▎   | 307kB 6.6MB/s eta 0:00:01\r\u001b[K     |█████████████████████████████▏  | 317kB 6.6MB/s eta 0:00:01\r\u001b[K     |██████████████████████████████▏ | 327kB 6.6MB/s eta 0:00:01\r\u001b[K     |███████████████████████████████ | 337kB 6.6MB/s eta 0:00:01\r\u001b[K     |████████████████████████████████| 348kB 6.6MB/s \n",
            "\u001b[?25hRequirement already satisfied: patsy>=0.5.0 in /usr/local/lib/python3.6/dist-packages (from lifelines) (0.5.1)\n",
            "Requirement already satisfied: numpy>=1.14.0 in /usr/local/lib/python3.6/dist-packages (from lifelines) (1.19.5)\n",
            "Requirement already satisfied: autograd>=1.3 in /usr/local/lib/python3.6/dist-packages (from lifelines) (1.3)\n",
            "Requirement already satisfied: pandas>=0.23.0 in /usr/local/lib/python3.6/dist-packages (from lifelines) (1.1.5)\n",
            "Collecting autograd-gamma>=0.3\n",
            "  Downloading https://files.pythonhosted.org/packages/85/ae/7f2031ea76140444b2453fa139041e5afd4a09fc5300cfefeb1103291f80/autograd-gamma-0.5.0.tar.gz\n",
            "Requirement already satisfied: scipy>=1.2.0 in /usr/local/lib/python3.6/dist-packages (from lifelines) (1.4.1)\n",
            "Requirement already satisfied: matplotlib>=3.0 in /usr/local/lib/python3.6/dist-packages (from lifelines) (3.2.2)\n",
            "Requirement already satisfied: six in /usr/local/lib/python3.6/dist-packages (from patsy>=0.5.0->lifelines) (1.15.0)\n",
            "Requirement already satisfied: future>=0.15.2 in /usr/local/lib/python3.6/dist-packages (from autograd>=1.3->lifelines) (0.16.0)\n",
            "Requirement already satisfied: python-dateutil>=2.7.3 in /usr/local/lib/python3.6/dist-packages (from pandas>=0.23.0->lifelines) (2.8.1)\n",
            "Requirement already satisfied: pytz>=2017.2 in /usr/local/lib/python3.6/dist-packages (from pandas>=0.23.0->lifelines) (2018.9)\n",
            "Requirement already satisfied: pyparsing!=2.0.4,!=2.1.2,!=2.1.6,>=2.0.1 in /usr/local/lib/python3.6/dist-packages (from matplotlib>=3.0->lifelines) (2.4.7)\n",
            "Requirement already satisfied: kiwisolver>=1.0.1 in /usr/local/lib/python3.6/dist-packages (from matplotlib>=3.0->lifelines) (1.3.1)\n",
            "Requirement already satisfied: cycler>=0.10 in /usr/local/lib/python3.6/dist-packages (from matplotlib>=3.0->lifelines) (0.10.0)\n",
            "Building wheels for collected packages: autograd-gamma\n",
            "  Building wheel for autograd-gamma (setup.py) ... \u001b[?25l\u001b[?25hdone\n",
            "  Created wheel for autograd-gamma: filename=autograd_gamma-0.5.0-cp36-none-any.whl size=4035 sha256=97184fa581fac46173ec3d6c2a6e7f6f0e29e9748cf54971994abc61cd398386\n",
            "  Stored in directory: /root/.cache/pip/wheels/dc/68/dc/91321c55fba449755524481854f5be70d41912b8f886f908bb\n",
            "Successfully built autograd-gamma\n",
            "Installing collected packages: autograd-gamma, lifelines\n",
            "Successfully installed autograd-gamma-0.5.0 lifelines-0.25.7\n"
          ],
          "name": "stdout"
        }
      ]
    },
    {
      "cell_type": "code",
      "metadata": {
        "id": "vJ6es7GdDaC_"
      },
      "source": [
        "dataset = pd.read_excel(\"/content/transplant.xlsx\")"
      ],
      "execution_count": null,
      "outputs": []
    },
    {
      "cell_type": "code",
      "metadata": {
        "colab": {
          "base_uri": "https://localhost:8080/",
          "height": 410
        },
        "id": "TaRG59-7DmSJ",
        "outputId": "aacebe42-9a9a-43e1-b71f-8344a21d9af0"
      },
      "source": [
        "dataset.head(10)"
      ],
      "execution_count": null,
      "outputs": [
        {
          "output_type": "execute_result",
          "data": {
            "text/html": [
              "<div>\n",
              "<style scoped>\n",
              "    .dataframe tbody tr th:only-of-type {\n",
              "        vertical-align: middle;\n",
              "    }\n",
              "\n",
              "    .dataframe tbody tr th {\n",
              "        vertical-align: top;\n",
              "    }\n",
              "\n",
              "    .dataframe thead th {\n",
              "        text-align: right;\n",
              "    }\n",
              "</style>\n",
              "<table border=\"1\" class=\"dataframe\">\n",
              "  <thead>\n",
              "    <tr style=\"text-align: right;\">\n",
              "      <th></th>\n",
              "      <th>Patient</th>\n",
              "      <th>Age</th>\n",
              "      <th>Sex</th>\n",
              "      <th>Survival days after transplantation</th>\n",
              "      <th>Weight</th>\n",
              "      <th>Donor</th>\n",
              "      <th>Retrasplant</th>\n",
              "      <th>ABO compatibility</th>\n",
              "      <th>BUN</th>\n",
              "      <th>Creatinine</th>\n",
              "      <th>Glucose</th>\n",
              "      <th>Albumin</th>\n",
              "      <th>Protein</th>\n",
              "      <th>SGOT</th>\n",
              "      <th>SGPT</th>\n",
              "      <th>Total bilirubin</th>\n",
              "      <th>Unnamed: 16</th>\n",
              "      <th>K</th>\n",
              "      <th>CI</th>\n",
              "      <th>WBC</th>\n",
              "      <th>Hemoglobin</th>\n",
              "      <th>Hematocrit</th>\n",
              "      <th>Platelet</th>\n",
              "    </tr>\n",
              "  </thead>\n",
              "  <tbody>\n",
              "    <tr>\n",
              "      <th>0</th>\n",
              "      <td>Kidney_mor_1</td>\n",
              "      <td>39</td>\n",
              "      <td>Female</td>\n",
              "      <td>73</td>\n",
              "      <td>45</td>\n",
              "      <td>Deceased</td>\n",
              "      <td>No</td>\n",
              "      <td>Identical</td>\n",
              "      <td>85.8</td>\n",
              "      <td>6.70</td>\n",
              "      <td>117</td>\n",
              "      <td>3.3</td>\n",
              "      <td>5.7</td>\n",
              "      <td>8.0</td>\n",
              "      <td>11.0</td>\n",
              "      <td>0.6</td>\n",
              "      <td>135.0</td>\n",
              "      <td>6.1</td>\n",
              "      <td>19.0</td>\n",
              "      <td>825.0</td>\n",
              "      <td>11.4</td>\n",
              "      <td>19.2</td>\n",
              "      <td>274</td>\n",
              "    </tr>\n",
              "    <tr>\n",
              "      <th>1</th>\n",
              "      <td>Kidney_mor_2</td>\n",
              "      <td>56</td>\n",
              "      <td>Male</td>\n",
              "      <td>46</td>\n",
              "      <td>65</td>\n",
              "      <td>Living</td>\n",
              "      <td>No</td>\n",
              "      <td>Identical</td>\n",
              "      <td>85.0</td>\n",
              "      <td>13.80</td>\n",
              "      <td>95</td>\n",
              "      <td>4.0</td>\n",
              "      <td>7.0</td>\n",
              "      <td>223.0</td>\n",
              "      <td>316.0</td>\n",
              "      <td>1.1</td>\n",
              "      <td>138.0</td>\n",
              "      <td>5.9</td>\n",
              "      <td>99.0</td>\n",
              "      <td>5.2</td>\n",
              "      <td>9.1</td>\n",
              "      <td>28.2</td>\n",
              "      <td>159</td>\n",
              "    </tr>\n",
              "    <tr>\n",
              "      <th>2</th>\n",
              "      <td>Kidney_mor_3</td>\n",
              "      <td>40</td>\n",
              "      <td>Male</td>\n",
              "      <td>9</td>\n",
              "      <td>52</td>\n",
              "      <td>Deceased</td>\n",
              "      <td>No</td>\n",
              "      <td>Identical</td>\n",
              "      <td>13.0</td>\n",
              "      <td>1.50</td>\n",
              "      <td>233</td>\n",
              "      <td>3.7</td>\n",
              "      <td>5.6</td>\n",
              "      <td>36.0</td>\n",
              "      <td>94.0</td>\n",
              "      <td>0.2</td>\n",
              "      <td>142.0</td>\n",
              "      <td>4.4</td>\n",
              "      <td>114.0</td>\n",
              "      <td>84.0</td>\n",
              "      <td>9.7</td>\n",
              "      <td>24.2</td>\n",
              "      <td>112</td>\n",
              "    </tr>\n",
              "    <tr>\n",
              "      <th>3</th>\n",
              "      <td>Kidney_mor_4</td>\n",
              "      <td>37</td>\n",
              "      <td>Male</td>\n",
              "      <td>17</td>\n",
              "      <td>51</td>\n",
              "      <td>Living</td>\n",
              "      <td>Yes</td>\n",
              "      <td>Compatible</td>\n",
              "      <td>48.0</td>\n",
              "      <td>1.30</td>\n",
              "      <td>88</td>\n",
              "      <td>3.3</td>\n",
              "      <td>6.5</td>\n",
              "      <td>21.0</td>\n",
              "      <td>12.0</td>\n",
              "      <td>0.4</td>\n",
              "      <td>138.0</td>\n",
              "      <td>4.9</td>\n",
              "      <td>99.0</td>\n",
              "      <td>519.0</td>\n",
              "      <td>9.7</td>\n",
              "      <td>29.0</td>\n",
              "      <td>164</td>\n",
              "    </tr>\n",
              "    <tr>\n",
              "      <th>4</th>\n",
              "      <td>Kidney_mor_5</td>\n",
              "      <td>67</td>\n",
              "      <td>Male</td>\n",
              "      <td>82</td>\n",
              "      <td>50</td>\n",
              "      <td>Deceased</td>\n",
              "      <td>Yes</td>\n",
              "      <td>Identical</td>\n",
              "      <td>64.0</td>\n",
              "      <td>11.90</td>\n",
              "      <td>11</td>\n",
              "      <td>4.4</td>\n",
              "      <td>6.7</td>\n",
              "      <td>1.0</td>\n",
              "      <td>12.0</td>\n",
              "      <td>1.2</td>\n",
              "      <td>142.0</td>\n",
              "      <td>5.9</td>\n",
              "      <td>17.0</td>\n",
              "      <td>38.0</td>\n",
              "      <td>8.8</td>\n",
              "      <td>31.1</td>\n",
              "      <td>144</td>\n",
              "    </tr>\n",
              "    <tr>\n",
              "      <th>5</th>\n",
              "      <td>Kidney_mor_6</td>\n",
              "      <td>45</td>\n",
              "      <td>Female</td>\n",
              "      <td>38</td>\n",
              "      <td>52</td>\n",
              "      <td>Deceased</td>\n",
              "      <td>No</td>\n",
              "      <td>Identical</td>\n",
              "      <td>9.0</td>\n",
              "      <td>12.50</td>\n",
              "      <td>72</td>\n",
              "      <td>4.6</td>\n",
              "      <td>6.7</td>\n",
              "      <td>24.0</td>\n",
              "      <td>19.0</td>\n",
              "      <td>0.4</td>\n",
              "      <td>143.0</td>\n",
              "      <td>5.8</td>\n",
              "      <td>13.0</td>\n",
              "      <td>52.0</td>\n",
              "      <td>9.0</td>\n",
              "      <td>26.8</td>\n",
              "      <td>14</td>\n",
              "    </tr>\n",
              "    <tr>\n",
              "      <th>6</th>\n",
              "      <td>Kidney_mor_7</td>\n",
              "      <td>67</td>\n",
              "      <td>Male</td>\n",
              "      <td>14</td>\n",
              "      <td>72</td>\n",
              "      <td>Deceased</td>\n",
              "      <td>No</td>\n",
              "      <td>Identical</td>\n",
              "      <td>85.0</td>\n",
              "      <td>11.46</td>\n",
              "      <td>141</td>\n",
              "      <td>2.9</td>\n",
              "      <td>5.8</td>\n",
              "      <td>23.0</td>\n",
              "      <td>11.0</td>\n",
              "      <td>0.4</td>\n",
              "      <td>136.0</td>\n",
              "      <td>4.1</td>\n",
              "      <td>14.0</td>\n",
              "      <td>534.0</td>\n",
              "      <td>1.4</td>\n",
              "      <td>26.6</td>\n",
              "      <td>123</td>\n",
              "    </tr>\n",
              "    <tr>\n",
              "      <th>7</th>\n",
              "      <td>Kidney_mor_8</td>\n",
              "      <td>49</td>\n",
              "      <td>Female</td>\n",
              "      <td>5</td>\n",
              "      <td>68</td>\n",
              "      <td>Deceased</td>\n",
              "      <td>No</td>\n",
              "      <td>Identical</td>\n",
              "      <td>66.6</td>\n",
              "      <td>8.98</td>\n",
              "      <td>89</td>\n",
              "      <td>5.0</td>\n",
              "      <td>7.5</td>\n",
              "      <td>17.0</td>\n",
              "      <td>23.0</td>\n",
              "      <td>0.3</td>\n",
              "      <td>14.0</td>\n",
              "      <td>4.8</td>\n",
              "      <td>113.0</td>\n",
              "      <td>73.0</td>\n",
              "      <td>1.7</td>\n",
              "      <td>28.9</td>\n",
              "      <td>14</td>\n",
              "    </tr>\n",
              "    <tr>\n",
              "      <th>8</th>\n",
              "      <td>Kidney_mor_9</td>\n",
              "      <td>55</td>\n",
              "      <td>Female</td>\n",
              "      <td>86</td>\n",
              "      <td>54</td>\n",
              "      <td>Deceased</td>\n",
              "      <td>No</td>\n",
              "      <td>Identical</td>\n",
              "      <td>72.5</td>\n",
              "      <td>8.50</td>\n",
              "      <td>192</td>\n",
              "      <td>4.2</td>\n",
              "      <td>7.6</td>\n",
              "      <td>13.0</td>\n",
              "      <td>9.0</td>\n",
              "      <td>0.3</td>\n",
              "      <td>137.8</td>\n",
              "      <td>6.2</td>\n",
              "      <td>13.6</td>\n",
              "      <td>798.0</td>\n",
              "      <td>1.2</td>\n",
              "      <td>33.6</td>\n",
              "      <td>15</td>\n",
              "    </tr>\n",
              "    <tr>\n",
              "      <th>9</th>\n",
              "      <td>Kidney_mor_10</td>\n",
              "      <td>61</td>\n",
              "      <td>Male</td>\n",
              "      <td>34</td>\n",
              "      <td>57</td>\n",
              "      <td>Living</td>\n",
              "      <td>No</td>\n",
              "      <td>Identical</td>\n",
              "      <td>34.0</td>\n",
              "      <td>9.60</td>\n",
              "      <td>11</td>\n",
              "      <td>4.0</td>\n",
              "      <td>7.3</td>\n",
              "      <td>14.0</td>\n",
              "      <td>9.0</td>\n",
              "      <td>0.5</td>\n",
              "      <td>132.0</td>\n",
              "      <td>4.5</td>\n",
              "      <td>91.0</td>\n",
              "      <td>66.0</td>\n",
              "      <td>11.0</td>\n",
              "      <td>25.0</td>\n",
              "      <td>256</td>\n",
              "    </tr>\n",
              "  </tbody>\n",
              "</table>\n",
              "</div>"
            ],
            "text/plain": [
              "         Patient  Age     Sex  ...  Hemoglobin  Hematocrit Platelet\n",
              "0   Kidney_mor_1   39  Female  ...        11.4        19.2      274\n",
              "1   Kidney_mor_2   56    Male  ...         9.1        28.2      159\n",
              "2   Kidney_mor_3   40    Male  ...         9.7        24.2      112\n",
              "3   Kidney_mor_4   37    Male  ...         9.7        29.0      164\n",
              "4   Kidney_mor_5   67    Male  ...         8.8        31.1      144\n",
              "5   Kidney_mor_6   45  Female  ...         9.0        26.8       14\n",
              "6   Kidney_mor_7   67    Male  ...         1.4        26.6      123\n",
              "7   Kidney_mor_8   49  Female  ...         1.7        28.9       14\n",
              "8   Kidney_mor_9   55  Female  ...         1.2        33.6       15\n",
              "9  Kidney_mor_10   61    Male  ...        11.0        25.0      256\n",
              "\n",
              "[10 rows x 23 columns]"
            ]
          },
          "metadata": {
            "tags": []
          },
          "execution_count": 3
        }
      ]
    },
    {
      "cell_type": "markdown",
      "metadata": {
        "id": "cD6Aiz79Flc7"
      },
      "source": [
        "# Background on the DataSet\r\n"
      ]
    },
    {
      "cell_type": "markdown",
      "metadata": {
        "id": "4RoNY4ufF39Q"
      },
      "source": [
        "This is a newly published dataset, for recently **Kidney Transplanted Patients** . All of these patients suffered from Treatment-related mortality (TRM), These are patients that passed away between the surgery and up to 3 months from it. We don't have a control group data from people that didn't suffer from TRM, but we could segment the Data between Short TRM and Long TRM, and treat it as a Classification problem. \r\n",
        "\r\n",
        "We don't have right censored data, so applying survival models is not obligatory. Nevertheless, I would like to introduce some models to practice.\r\n",
        "\r\n",
        "\r\n",
        "Here, I leave a good paper about TRM:\r\n",
        "\r\n",
        "[Paper about TRM](https://pubmed.ncbi.nlm.nih.gov/32722695/)\r\n",
        "\r\n",
        "And here I leave the Dataset link from Harvard University:\r\n",
        "\r\n",
        "[Link to the dataset](https://dataverse.harvard.edu/file.xhtml?fileId=4159133&version=2.0)"
      ]
    },
    {
      "cell_type": "markdown",
      "metadata": {
        "id": "IKudPa5ysOBd"
      },
      "source": [
        "# Each Column Description\r\n"
      ]
    },
    {
      "cell_type": "markdown",
      "metadata": {
        "id": "SmrMEPjMsScG"
      },
      "source": [
        "\r\n",
        "1.   **E -The weight** : is in Kilomgrams, 1 Kg = 2.2 lbs\r\n",
        "\r\n",
        "2.   **Donor** - Kidneys can be taken either from a Living Donor, ussually a member of the family, spouse or really close friends. Diseased donors, are usually critically ill patients with a criteria of brain death. Kidney transplants that come from a Living donor usually have a better prognosis. \r\n",
        "\r\n",
        "3.   **Retransplant** : Patient that had a second transplant because lose of the first kidney transplant. \r\n",
        "4.  **ABO compability** : Blood groups A,B compability between the donor and the recipient. \r\n",
        "\r\n",
        "\r\n",
        "5.  **BUN** : Blood Urea Nitrogen - Along with creatinine is a measurement of kidney function. The higher it goes, the worse the kidney are functioning.\r\n",
        "\r\n",
        "6.  **Creatinine**: Measurement of kidney function. You can compute BUN/Cretinine ratio to look for pre renal azotemia. (Kidneys stop working due to low blood pressure).\r\n",
        "\r\n",
        "7.  **Glucose** : Glucose in blood, a measurement above 200 mg/dl often means a Diabetes diagnosis\r\n",
        "\r\n",
        "8.  **Albumin - Protein** : A way to measure hepatic function, low numbers often mean, low hepatic function. Albumin and protein can also be low due to a Nephrotic syndrome. (Losing protein in the urine) \r\n",
        "\r\n",
        "9.   **SGOT\tSGPT**: These are transminases, they are elevated during liver cell injury. \r\n",
        "\r\n",
        "10.  **Total Billirubin** : Measurement of bilirrubin in blod, damage or obstruction along the bile pathway may increase. \r\n",
        "\r\n",
        "11.  **Na, K, CL** : Electrolytes in the blood, a lot of things may cause a change on these one.\r\n",
        "\r\n",
        "12.   **Hemoglobin and Hematocrit** : Measurement of erytrocites. Aneamia is usually diagnosed with < 13 mg/dl in men and < 12mg/dl in woman.\r\n",
        "\r\n",
        "13.  **Platelets**: Low platelets increases the chance of bleeding. regular levels are around 200-400 thousands. \r\n"
      ]
    },
    {
      "cell_type": "markdown",
      "metadata": {
        "id": "DF7bkO_1PCFt"
      },
      "source": [
        "# Action Plan\r\n"
      ]
    },
    {
      "cell_type": "markdown",
      "metadata": {
        "id": "Zzvu1qklPHUB"
      },
      "source": [
        "The plan is to build a model, that can stratify the risk of a patient after transplant surgery. Treatment can then be adjusted depending on the risk of dying during the first 30 days or not.  "
      ]
    },
    {
      "cell_type": "markdown",
      "metadata": {
        "id": "ei1gv2uhNWh2"
      },
      "source": [
        "# Let's start with the classification problem\r\n",
        "\r\n",
        "\r\n"
      ]
    },
    {
      "cell_type": "markdown",
      "metadata": {
        "id": "5zVZQ1EzLpPq"
      },
      "source": [
        "Okay, Let's make 2 columns classifying the TRM between early and late. Let's drop the first row "
      ]
    },
    {
      "cell_type": "code",
      "metadata": {
        "colab": {
          "base_uri": "https://localhost:8080/"
        },
        "id": "tPEztRfwJw6H",
        "outputId": "80e8e45b-64b5-49df-e004-cb2b83842093"
      },
      "source": [
        "dataset.columns"
      ],
      "execution_count": null,
      "outputs": [
        {
          "output_type": "execute_result",
          "data": {
            "text/plain": [
              "Index(['Patient', 'Age', 'Sex', 'Survival days after transplantation',\n",
              "       'Weight', 'Donor', 'Retrasplant', 'ABO compatibility', 'BUN',\n",
              "       'Creatinine', 'Glucose ', 'Albumin', 'Protein', 'SGOT', 'SGPT',\n",
              "       ' Total bilirubin', 'Unnamed: 16', 'K', 'CI', 'WBC', 'Hemoglobin',\n",
              "       'Hematocrit', 'Platelet'],\n",
              "      dtype='object')"
            ]
          },
          "metadata": {
            "tags": []
          },
          "execution_count": 4
        }
      ]
    },
    {
      "cell_type": "code",
      "metadata": {
        "colab": {
          "base_uri": "https://localhost:8080/",
          "height": 717
        },
        "id": "w9G2SUgZKCyi",
        "outputId": "8129b9c9-a29e-4085-f879-6fa72b4127bf"
      },
      "source": [
        "dataset.head(20)"
      ],
      "execution_count": null,
      "outputs": [
        {
          "output_type": "execute_result",
          "data": {
            "text/html": [
              "<div>\n",
              "<style scoped>\n",
              "    .dataframe tbody tr th:only-of-type {\n",
              "        vertical-align: middle;\n",
              "    }\n",
              "\n",
              "    .dataframe tbody tr th {\n",
              "        vertical-align: top;\n",
              "    }\n",
              "\n",
              "    .dataframe thead th {\n",
              "        text-align: right;\n",
              "    }\n",
              "</style>\n",
              "<table border=\"1\" class=\"dataframe\">\n",
              "  <thead>\n",
              "    <tr style=\"text-align: right;\">\n",
              "      <th></th>\n",
              "      <th>Patient</th>\n",
              "      <th>Age</th>\n",
              "      <th>Sex</th>\n",
              "      <th>Survival days after transplantation</th>\n",
              "      <th>Weight</th>\n",
              "      <th>Donor</th>\n",
              "      <th>Retrasplant</th>\n",
              "      <th>ABO compatibility</th>\n",
              "      <th>BUN</th>\n",
              "      <th>Creatinine</th>\n",
              "      <th>Glucose</th>\n",
              "      <th>Albumin</th>\n",
              "      <th>Protein</th>\n",
              "      <th>SGOT</th>\n",
              "      <th>SGPT</th>\n",
              "      <th>Total bilirubin</th>\n",
              "      <th>Unnamed: 16</th>\n",
              "      <th>K</th>\n",
              "      <th>CI</th>\n",
              "      <th>WBC</th>\n",
              "      <th>Hemoglobin</th>\n",
              "      <th>Hematocrit</th>\n",
              "      <th>Platelet</th>\n",
              "    </tr>\n",
              "  </thead>\n",
              "  <tbody>\n",
              "    <tr>\n",
              "      <th>0</th>\n",
              "      <td>Kidney_mor_1</td>\n",
              "      <td>39</td>\n",
              "      <td>Female</td>\n",
              "      <td>73</td>\n",
              "      <td>45</td>\n",
              "      <td>Deceased</td>\n",
              "      <td>No</td>\n",
              "      <td>Identical</td>\n",
              "      <td>85.8</td>\n",
              "      <td>6.70</td>\n",
              "      <td>117</td>\n",
              "      <td>3.30</td>\n",
              "      <td>5.7</td>\n",
              "      <td>8.0</td>\n",
              "      <td>11.0</td>\n",
              "      <td>0.60</td>\n",
              "      <td>135.0</td>\n",
              "      <td>6.1</td>\n",
              "      <td>19.0</td>\n",
              "      <td>825.0</td>\n",
              "      <td>11.4</td>\n",
              "      <td>19.2</td>\n",
              "      <td>274</td>\n",
              "    </tr>\n",
              "    <tr>\n",
              "      <th>1</th>\n",
              "      <td>Kidney_mor_2</td>\n",
              "      <td>56</td>\n",
              "      <td>Male</td>\n",
              "      <td>46</td>\n",
              "      <td>65</td>\n",
              "      <td>Living</td>\n",
              "      <td>No</td>\n",
              "      <td>Identical</td>\n",
              "      <td>85.0</td>\n",
              "      <td>13.80</td>\n",
              "      <td>95</td>\n",
              "      <td>4.00</td>\n",
              "      <td>7.0</td>\n",
              "      <td>223.0</td>\n",
              "      <td>316.0</td>\n",
              "      <td>1.10</td>\n",
              "      <td>138.0</td>\n",
              "      <td>5.9</td>\n",
              "      <td>99.0</td>\n",
              "      <td>5.2</td>\n",
              "      <td>9.1</td>\n",
              "      <td>28.2</td>\n",
              "      <td>159</td>\n",
              "    </tr>\n",
              "    <tr>\n",
              "      <th>2</th>\n",
              "      <td>Kidney_mor_3</td>\n",
              "      <td>40</td>\n",
              "      <td>Male</td>\n",
              "      <td>9</td>\n",
              "      <td>52</td>\n",
              "      <td>Deceased</td>\n",
              "      <td>No</td>\n",
              "      <td>Identical</td>\n",
              "      <td>13.0</td>\n",
              "      <td>1.50</td>\n",
              "      <td>233</td>\n",
              "      <td>3.70</td>\n",
              "      <td>5.6</td>\n",
              "      <td>36.0</td>\n",
              "      <td>94.0</td>\n",
              "      <td>0.20</td>\n",
              "      <td>142.0</td>\n",
              "      <td>4.4</td>\n",
              "      <td>114.0</td>\n",
              "      <td>84.0</td>\n",
              "      <td>9.7</td>\n",
              "      <td>24.2</td>\n",
              "      <td>112</td>\n",
              "    </tr>\n",
              "    <tr>\n",
              "      <th>3</th>\n",
              "      <td>Kidney_mor_4</td>\n",
              "      <td>37</td>\n",
              "      <td>Male</td>\n",
              "      <td>17</td>\n",
              "      <td>51</td>\n",
              "      <td>Living</td>\n",
              "      <td>Yes</td>\n",
              "      <td>Compatible</td>\n",
              "      <td>48.0</td>\n",
              "      <td>1.30</td>\n",
              "      <td>88</td>\n",
              "      <td>3.30</td>\n",
              "      <td>6.5</td>\n",
              "      <td>21.0</td>\n",
              "      <td>12.0</td>\n",
              "      <td>0.40</td>\n",
              "      <td>138.0</td>\n",
              "      <td>4.9</td>\n",
              "      <td>99.0</td>\n",
              "      <td>519.0</td>\n",
              "      <td>9.7</td>\n",
              "      <td>29.0</td>\n",
              "      <td>164</td>\n",
              "    </tr>\n",
              "    <tr>\n",
              "      <th>4</th>\n",
              "      <td>Kidney_mor_5</td>\n",
              "      <td>67</td>\n",
              "      <td>Male</td>\n",
              "      <td>82</td>\n",
              "      <td>50</td>\n",
              "      <td>Deceased</td>\n",
              "      <td>Yes</td>\n",
              "      <td>Identical</td>\n",
              "      <td>64.0</td>\n",
              "      <td>11.90</td>\n",
              "      <td>11</td>\n",
              "      <td>4.40</td>\n",
              "      <td>6.7</td>\n",
              "      <td>1.0</td>\n",
              "      <td>12.0</td>\n",
              "      <td>1.20</td>\n",
              "      <td>142.0</td>\n",
              "      <td>5.9</td>\n",
              "      <td>17.0</td>\n",
              "      <td>38.0</td>\n",
              "      <td>8.8</td>\n",
              "      <td>31.1</td>\n",
              "      <td>144</td>\n",
              "    </tr>\n",
              "    <tr>\n",
              "      <th>5</th>\n",
              "      <td>Kidney_mor_6</td>\n",
              "      <td>45</td>\n",
              "      <td>Female</td>\n",
              "      <td>38</td>\n",
              "      <td>52</td>\n",
              "      <td>Deceased</td>\n",
              "      <td>No</td>\n",
              "      <td>Identical</td>\n",
              "      <td>9.0</td>\n",
              "      <td>12.50</td>\n",
              "      <td>72</td>\n",
              "      <td>4.60</td>\n",
              "      <td>6.7</td>\n",
              "      <td>24.0</td>\n",
              "      <td>19.0</td>\n",
              "      <td>0.40</td>\n",
              "      <td>143.0</td>\n",
              "      <td>5.8</td>\n",
              "      <td>13.0</td>\n",
              "      <td>52.0</td>\n",
              "      <td>9.0</td>\n",
              "      <td>26.8</td>\n",
              "      <td>14</td>\n",
              "    </tr>\n",
              "    <tr>\n",
              "      <th>6</th>\n",
              "      <td>Kidney_mor_7</td>\n",
              "      <td>67</td>\n",
              "      <td>Male</td>\n",
              "      <td>14</td>\n",
              "      <td>72</td>\n",
              "      <td>Deceased</td>\n",
              "      <td>No</td>\n",
              "      <td>Identical</td>\n",
              "      <td>85.0</td>\n",
              "      <td>11.46</td>\n",
              "      <td>141</td>\n",
              "      <td>2.90</td>\n",
              "      <td>5.8</td>\n",
              "      <td>23.0</td>\n",
              "      <td>11.0</td>\n",
              "      <td>0.40</td>\n",
              "      <td>136.0</td>\n",
              "      <td>4.1</td>\n",
              "      <td>14.0</td>\n",
              "      <td>534.0</td>\n",
              "      <td>1.4</td>\n",
              "      <td>26.6</td>\n",
              "      <td>123</td>\n",
              "    </tr>\n",
              "    <tr>\n",
              "      <th>7</th>\n",
              "      <td>Kidney_mor_8</td>\n",
              "      <td>49</td>\n",
              "      <td>Female</td>\n",
              "      <td>5</td>\n",
              "      <td>68</td>\n",
              "      <td>Deceased</td>\n",
              "      <td>No</td>\n",
              "      <td>Identical</td>\n",
              "      <td>66.6</td>\n",
              "      <td>8.98</td>\n",
              "      <td>89</td>\n",
              "      <td>5.00</td>\n",
              "      <td>7.5</td>\n",
              "      <td>17.0</td>\n",
              "      <td>23.0</td>\n",
              "      <td>0.30</td>\n",
              "      <td>14.0</td>\n",
              "      <td>4.8</td>\n",
              "      <td>113.0</td>\n",
              "      <td>73.0</td>\n",
              "      <td>1.7</td>\n",
              "      <td>28.9</td>\n",
              "      <td>14</td>\n",
              "    </tr>\n",
              "    <tr>\n",
              "      <th>8</th>\n",
              "      <td>Kidney_mor_9</td>\n",
              "      <td>55</td>\n",
              "      <td>Female</td>\n",
              "      <td>86</td>\n",
              "      <td>54</td>\n",
              "      <td>Deceased</td>\n",
              "      <td>No</td>\n",
              "      <td>Identical</td>\n",
              "      <td>72.5</td>\n",
              "      <td>8.50</td>\n",
              "      <td>192</td>\n",
              "      <td>4.20</td>\n",
              "      <td>7.6</td>\n",
              "      <td>13.0</td>\n",
              "      <td>9.0</td>\n",
              "      <td>0.30</td>\n",
              "      <td>137.8</td>\n",
              "      <td>6.2</td>\n",
              "      <td>13.6</td>\n",
              "      <td>798.0</td>\n",
              "      <td>1.2</td>\n",
              "      <td>33.6</td>\n",
              "      <td>15</td>\n",
              "    </tr>\n",
              "    <tr>\n",
              "      <th>9</th>\n",
              "      <td>Kidney_mor_10</td>\n",
              "      <td>61</td>\n",
              "      <td>Male</td>\n",
              "      <td>34</td>\n",
              "      <td>57</td>\n",
              "      <td>Living</td>\n",
              "      <td>No</td>\n",
              "      <td>Identical</td>\n",
              "      <td>34.0</td>\n",
              "      <td>9.60</td>\n",
              "      <td>11</td>\n",
              "      <td>4.00</td>\n",
              "      <td>7.3</td>\n",
              "      <td>14.0</td>\n",
              "      <td>9.0</td>\n",
              "      <td>0.50</td>\n",
              "      <td>132.0</td>\n",
              "      <td>4.5</td>\n",
              "      <td>91.0</td>\n",
              "      <td>66.0</td>\n",
              "      <td>11.0</td>\n",
              "      <td>25.0</td>\n",
              "      <td>256</td>\n",
              "    </tr>\n",
              "    <tr>\n",
              "      <th>10</th>\n",
              "      <td>Kidney_mor_11</td>\n",
              "      <td>57</td>\n",
              "      <td>Male</td>\n",
              "      <td>80</td>\n",
              "      <td>62</td>\n",
              "      <td>Deceased</td>\n",
              "      <td>No</td>\n",
              "      <td>Identical</td>\n",
              "      <td>55.0</td>\n",
              "      <td>12.50</td>\n",
              "      <td>13</td>\n",
              "      <td>3.34</td>\n",
              "      <td>6.8</td>\n",
              "      <td>6.0</td>\n",
              "      <td>8.0</td>\n",
              "      <td>0.30</td>\n",
              "      <td>133.0</td>\n",
              "      <td>5.4</td>\n",
              "      <td>98.0</td>\n",
              "      <td>39.0</td>\n",
              "      <td>1.9</td>\n",
              "      <td>34.0</td>\n",
              "      <td>26</td>\n",
              "    </tr>\n",
              "    <tr>\n",
              "      <th>11</th>\n",
              "      <td>Kidney_mor_12</td>\n",
              "      <td>62</td>\n",
              "      <td>Male</td>\n",
              "      <td>59</td>\n",
              "      <td>56</td>\n",
              "      <td>Deceased</td>\n",
              "      <td>Yes</td>\n",
              "      <td>Identical</td>\n",
              "      <td>55.0</td>\n",
              "      <td>8.50</td>\n",
              "      <td>121</td>\n",
              "      <td>2.60</td>\n",
              "      <td>4.3</td>\n",
              "      <td>18.0</td>\n",
              "      <td>1.0</td>\n",
              "      <td>0.39</td>\n",
              "      <td>142.0</td>\n",
              "      <td>3.3</td>\n",
              "      <td>19.0</td>\n",
              "      <td>598.0</td>\n",
              "      <td>1.7</td>\n",
              "      <td>28.7</td>\n",
              "      <td>21</td>\n",
              "    </tr>\n",
              "    <tr>\n",
              "      <th>12</th>\n",
              "      <td>Kidney_mor_13</td>\n",
              "      <td>56</td>\n",
              "      <td>Female</td>\n",
              "      <td>45</td>\n",
              "      <td>66</td>\n",
              "      <td>Deceased</td>\n",
              "      <td>No</td>\n",
              "      <td>Identical</td>\n",
              "      <td>64.7</td>\n",
              "      <td>6.30</td>\n",
              "      <td>143</td>\n",
              "      <td>4.00</td>\n",
              "      <td>7.3</td>\n",
              "      <td>18.0</td>\n",
              "      <td>12.0</td>\n",
              "      <td>0.20</td>\n",
              "      <td>139.0</td>\n",
              "      <td>4.2</td>\n",
              "      <td>95.0</td>\n",
              "      <td>7.4</td>\n",
              "      <td>11.8</td>\n",
              "      <td>17.5</td>\n",
              "      <td>254</td>\n",
              "    </tr>\n",
              "    <tr>\n",
              "      <th>13</th>\n",
              "      <td>Kidney_mor_14</td>\n",
              "      <td>40</td>\n",
              "      <td>Male</td>\n",
              "      <td>49</td>\n",
              "      <td>65</td>\n",
              "      <td>Deceased</td>\n",
              "      <td>No</td>\n",
              "      <td>Identical</td>\n",
              "      <td>85.0</td>\n",
              "      <td>14.70</td>\n",
              "      <td>97</td>\n",
              "      <td>4.10</td>\n",
              "      <td>7.5</td>\n",
              "      <td>29.0</td>\n",
              "      <td>28.0</td>\n",
              "      <td>0.70</td>\n",
              "      <td>142.0</td>\n",
              "      <td>5.1</td>\n",
              "      <td>12.0</td>\n",
              "      <td>6.0</td>\n",
              "      <td>1.6</td>\n",
              "      <td>28.9</td>\n",
              "      <td>147</td>\n",
              "    </tr>\n",
              "    <tr>\n",
              "      <th>14</th>\n",
              "      <td>Kidney_mor_15</td>\n",
              "      <td>40</td>\n",
              "      <td>Male</td>\n",
              "      <td>55</td>\n",
              "      <td>54</td>\n",
              "      <td>Deceased</td>\n",
              "      <td>Yes</td>\n",
              "      <td>Identical</td>\n",
              "      <td>95.2</td>\n",
              "      <td>9.60</td>\n",
              "      <td>8</td>\n",
              "      <td>4.60</td>\n",
              "      <td>7.0</td>\n",
              "      <td>11.0</td>\n",
              "      <td>6.0</td>\n",
              "      <td>0.40</td>\n",
              "      <td>14.0</td>\n",
              "      <td>4.2</td>\n",
              "      <td>95.0</td>\n",
              "      <td>46.0</td>\n",
              "      <td>13.1</td>\n",
              "      <td>35.1</td>\n",
              "      <td>327</td>\n",
              "    </tr>\n",
              "    <tr>\n",
              "      <th>15</th>\n",
              "      <td>Kidney_mor_16</td>\n",
              "      <td>45</td>\n",
              "      <td>Male</td>\n",
              "      <td>26</td>\n",
              "      <td>63</td>\n",
              "      <td>Living</td>\n",
              "      <td>No</td>\n",
              "      <td>Identical</td>\n",
              "      <td>36.7</td>\n",
              "      <td>2.84</td>\n",
              "      <td>16</td>\n",
              "      <td>3.50</td>\n",
              "      <td>5.3</td>\n",
              "      <td>14.0</td>\n",
              "      <td>9.0</td>\n",
              "      <td>0.50</td>\n",
              "      <td>137.0</td>\n",
              "      <td>3.6</td>\n",
              "      <td>13.0</td>\n",
              "      <td>9.0</td>\n",
              "      <td>11.0</td>\n",
              "      <td>32.7</td>\n",
              "      <td>128</td>\n",
              "    </tr>\n",
              "    <tr>\n",
              "      <th>16</th>\n",
              "      <td>Kidney_mor_17</td>\n",
              "      <td>48</td>\n",
              "      <td>Male</td>\n",
              "      <td>10</td>\n",
              "      <td>70</td>\n",
              "      <td>Deceased</td>\n",
              "      <td>No</td>\n",
              "      <td>Identical</td>\n",
              "      <td>35.9</td>\n",
              "      <td>7.60</td>\n",
              "      <td>13</td>\n",
              "      <td>3.60</td>\n",
              "      <td>6.0</td>\n",
              "      <td>17.0</td>\n",
              "      <td>19.0</td>\n",
              "      <td>0.40</td>\n",
              "      <td>131.0</td>\n",
              "      <td>3.6</td>\n",
              "      <td>17.0</td>\n",
              "      <td>584.0</td>\n",
              "      <td>8.9</td>\n",
              "      <td>28.7</td>\n",
              "      <td>153</td>\n",
              "    </tr>\n",
              "    <tr>\n",
              "      <th>17</th>\n",
              "      <td>Kidney_mor_18</td>\n",
              "      <td>34</td>\n",
              "      <td>Male</td>\n",
              "      <td>0</td>\n",
              "      <td>57</td>\n",
              "      <td>Deceased</td>\n",
              "      <td>Yes</td>\n",
              "      <td>Identical</td>\n",
              "      <td>76.9</td>\n",
              "      <td>18.10</td>\n",
              "      <td>139</td>\n",
              "      <td>4.10</td>\n",
              "      <td>8.1</td>\n",
              "      <td>7.0</td>\n",
              "      <td>5.0</td>\n",
              "      <td>0.90</td>\n",
              "      <td>141.0</td>\n",
              "      <td>5.8</td>\n",
              "      <td>16.0</td>\n",
              "      <td>55.0</td>\n",
              "      <td>9.2</td>\n",
              "      <td>26.0</td>\n",
              "      <td>171</td>\n",
              "    </tr>\n",
              "    <tr>\n",
              "      <th>18</th>\n",
              "      <td>Kidney_mor_19</td>\n",
              "      <td>53</td>\n",
              "      <td>Female</td>\n",
              "      <td>9</td>\n",
              "      <td>40</td>\n",
              "      <td>Deceased</td>\n",
              "      <td>Yes</td>\n",
              "      <td>Identical</td>\n",
              "      <td>71.3</td>\n",
              "      <td>9.10</td>\n",
              "      <td>8</td>\n",
              "      <td>3.60</td>\n",
              "      <td>5.4</td>\n",
              "      <td>31.0</td>\n",
              "      <td>27.0</td>\n",
              "      <td>0.90</td>\n",
              "      <td>141.0</td>\n",
              "      <td>5.6</td>\n",
              "      <td>12.0</td>\n",
              "      <td>46.0</td>\n",
              "      <td>1.3</td>\n",
              "      <td>29.4</td>\n",
              "      <td>123</td>\n",
              "    </tr>\n",
              "    <tr>\n",
              "      <th>19</th>\n",
              "      <td>Kidney_mor_20</td>\n",
              "      <td>59</td>\n",
              "      <td>Female</td>\n",
              "      <td>52</td>\n",
              "      <td>40</td>\n",
              "      <td>Deceased</td>\n",
              "      <td>No</td>\n",
              "      <td>Identical</td>\n",
              "      <td>52.3</td>\n",
              "      <td>7.30</td>\n",
              "      <td>89</td>\n",
              "      <td>3.90</td>\n",
              "      <td>7.1</td>\n",
              "      <td>3.0</td>\n",
              "      <td>15.0</td>\n",
              "      <td>0.40</td>\n",
              "      <td>136.0</td>\n",
              "      <td>3.6</td>\n",
              "      <td>19.0</td>\n",
              "      <td>56.0</td>\n",
              "      <td>11.4</td>\n",
              "      <td>34.0</td>\n",
              "      <td>218</td>\n",
              "    </tr>\n",
              "  </tbody>\n",
              "</table>\n",
              "</div>"
            ],
            "text/plain": [
              "          Patient  Age     Sex  ...  Hemoglobin  Hematocrit Platelet\n",
              "0    Kidney_mor_1   39  Female  ...        11.4        19.2      274\n",
              "1    Kidney_mor_2   56    Male  ...         9.1        28.2      159\n",
              "2    Kidney_mor_3   40    Male  ...         9.7        24.2      112\n",
              "3    Kidney_mor_4   37    Male  ...         9.7        29.0      164\n",
              "4    Kidney_mor_5   67    Male  ...         8.8        31.1      144\n",
              "5    Kidney_mor_6   45  Female  ...         9.0        26.8       14\n",
              "6    Kidney_mor_7   67    Male  ...         1.4        26.6      123\n",
              "7    Kidney_mor_8   49  Female  ...         1.7        28.9       14\n",
              "8    Kidney_mor_9   55  Female  ...         1.2        33.6       15\n",
              "9   Kidney_mor_10   61    Male  ...        11.0        25.0      256\n",
              "10  Kidney_mor_11   57    Male  ...         1.9        34.0       26\n",
              "11  Kidney_mor_12   62    Male  ...         1.7        28.7       21\n",
              "12  Kidney_mor_13   56  Female  ...        11.8        17.5      254\n",
              "13  Kidney_mor_14   40    Male  ...         1.6        28.9      147\n",
              "14  Kidney_mor_15   40    Male  ...        13.1        35.1      327\n",
              "15  Kidney_mor_16   45    Male  ...        11.0        32.7      128\n",
              "16  Kidney_mor_17   48    Male  ...         8.9        28.7      153\n",
              "17  Kidney_mor_18   34    Male  ...         9.2        26.0      171\n",
              "18  Kidney_mor_19   53  Female  ...         1.3        29.4      123\n",
              "19  Kidney_mor_20   59  Female  ...        11.4        34.0      218\n",
              "\n",
              "[20 rows x 23 columns]"
            ]
          },
          "metadata": {
            "tags": []
          },
          "execution_count": 5
        }
      ]
    },
    {
      "cell_type": "code",
      "metadata": {
        "colab": {
          "base_uri": "https://localhost:8080/"
        },
        "id": "Cyyqvw2I-Coa",
        "outputId": "8c02bf94-b25e-4dc7-95a8-dc5ff35df7eb"
      },
      "source": [
        "def one_hot_encode(df, column):\r\n",
        "    one_hot = pd.get_dummies(df[column], prefix=column)\r\n",
        "    df = df.drop(column, axis = 1)\r\n",
        "    df = df.join(one_hot)\r\n",
        "    print(one_hot.columns)\r\n",
        "    return df\r\n",
        "def lookup_encode(df, column, lookup):\r\n",
        "    df[column] = df[column].map(lookup)\r\n",
        "    return df\r\n",
        "\r\n",
        "dataset = one_hot_encode(dataset, 'ABO compatibility')\r\n",
        "dataset = one_hot_encode(dataset, 'Donor')\r\n",
        "dataset = lookup_encode(dataset, 'Sex', lambda x: 1 if x == 'Male' else 0)\r\n",
        "dataset = lookup_encode(dataset, 'Retrasplant', lambda x: 1 if x in [1, '1', 'Yes'] else 0)"
      ],
      "execution_count": null,
      "outputs": [
        {
          "output_type": "stream",
          "text": [
            "Index(['ABO compatibility_Compatible', 'ABO compatibility_Identical',\n",
            "       'ABO compatibility_Incompatible'],\n",
            "      dtype='object')\n",
            "Index(['Donor_Deceased', 'Donor_Living', 'Donor_Non-heart beating'], dtype='object')\n"
          ],
          "name": "stdout"
        }
      ]
    },
    {
      "cell_type": "code",
      "metadata": {
        "colab": {
          "base_uri": "https://localhost:8080/",
          "height": 257
        },
        "id": "TiN4iAcnLHLF",
        "outputId": "b0cc4315-8229-4830-eb68-906f5fdd06c9"
      },
      "source": [
        "dataset.head()"
      ],
      "execution_count": null,
      "outputs": [
        {
          "output_type": "execute_result",
          "data": {
            "text/html": [
              "<div>\n",
              "<style scoped>\n",
              "    .dataframe tbody tr th:only-of-type {\n",
              "        vertical-align: middle;\n",
              "    }\n",
              "\n",
              "    .dataframe tbody tr th {\n",
              "        vertical-align: top;\n",
              "    }\n",
              "\n",
              "    .dataframe thead th {\n",
              "        text-align: right;\n",
              "    }\n",
              "</style>\n",
              "<table border=\"1\" class=\"dataframe\">\n",
              "  <thead>\n",
              "    <tr style=\"text-align: right;\">\n",
              "      <th></th>\n",
              "      <th>Patient</th>\n",
              "      <th>Age</th>\n",
              "      <th>Sex</th>\n",
              "      <th>Survival days after transplantation</th>\n",
              "      <th>Weight</th>\n",
              "      <th>Retrasplant</th>\n",
              "      <th>BUN</th>\n",
              "      <th>Creatinine</th>\n",
              "      <th>Glucose</th>\n",
              "      <th>Albumin</th>\n",
              "      <th>Protein</th>\n",
              "      <th>SGOT</th>\n",
              "      <th>SGPT</th>\n",
              "      <th>Total bilirubin</th>\n",
              "      <th>Unnamed: 16</th>\n",
              "      <th>K</th>\n",
              "      <th>CI</th>\n",
              "      <th>WBC</th>\n",
              "      <th>Hemoglobin</th>\n",
              "      <th>Hematocrit</th>\n",
              "      <th>Platelet</th>\n",
              "      <th>ABO compatibility_Compatible</th>\n",
              "      <th>ABO compatibility_Identical</th>\n",
              "      <th>ABO compatibility_Incompatible</th>\n",
              "      <th>Donor_Deceased</th>\n",
              "      <th>Donor_Living</th>\n",
              "      <th>Donor_Non-heart beating</th>\n",
              "    </tr>\n",
              "  </thead>\n",
              "  <tbody>\n",
              "    <tr>\n",
              "      <th>0</th>\n",
              "      <td>Kidney_mor_1</td>\n",
              "      <td>39</td>\n",
              "      <td>0</td>\n",
              "      <td>73</td>\n",
              "      <td>45</td>\n",
              "      <td>0</td>\n",
              "      <td>85.8</td>\n",
              "      <td>6.7</td>\n",
              "      <td>117</td>\n",
              "      <td>3.3</td>\n",
              "      <td>5.7</td>\n",
              "      <td>8.0</td>\n",
              "      <td>11.0</td>\n",
              "      <td>0.6</td>\n",
              "      <td>135.0</td>\n",
              "      <td>6.1</td>\n",
              "      <td>19.0</td>\n",
              "      <td>825.0</td>\n",
              "      <td>11.4</td>\n",
              "      <td>19.2</td>\n",
              "      <td>274</td>\n",
              "      <td>0</td>\n",
              "      <td>1</td>\n",
              "      <td>0</td>\n",
              "      <td>1</td>\n",
              "      <td>0</td>\n",
              "      <td>0</td>\n",
              "    </tr>\n",
              "    <tr>\n",
              "      <th>1</th>\n",
              "      <td>Kidney_mor_2</td>\n",
              "      <td>56</td>\n",
              "      <td>1</td>\n",
              "      <td>46</td>\n",
              "      <td>65</td>\n",
              "      <td>0</td>\n",
              "      <td>85.0</td>\n",
              "      <td>13.8</td>\n",
              "      <td>95</td>\n",
              "      <td>4.0</td>\n",
              "      <td>7.0</td>\n",
              "      <td>223.0</td>\n",
              "      <td>316.0</td>\n",
              "      <td>1.1</td>\n",
              "      <td>138.0</td>\n",
              "      <td>5.9</td>\n",
              "      <td>99.0</td>\n",
              "      <td>5.2</td>\n",
              "      <td>9.1</td>\n",
              "      <td>28.2</td>\n",
              "      <td>159</td>\n",
              "      <td>0</td>\n",
              "      <td>1</td>\n",
              "      <td>0</td>\n",
              "      <td>0</td>\n",
              "      <td>1</td>\n",
              "      <td>0</td>\n",
              "    </tr>\n",
              "    <tr>\n",
              "      <th>2</th>\n",
              "      <td>Kidney_mor_3</td>\n",
              "      <td>40</td>\n",
              "      <td>1</td>\n",
              "      <td>9</td>\n",
              "      <td>52</td>\n",
              "      <td>0</td>\n",
              "      <td>13.0</td>\n",
              "      <td>1.5</td>\n",
              "      <td>233</td>\n",
              "      <td>3.7</td>\n",
              "      <td>5.6</td>\n",
              "      <td>36.0</td>\n",
              "      <td>94.0</td>\n",
              "      <td>0.2</td>\n",
              "      <td>142.0</td>\n",
              "      <td>4.4</td>\n",
              "      <td>114.0</td>\n",
              "      <td>84.0</td>\n",
              "      <td>9.7</td>\n",
              "      <td>24.2</td>\n",
              "      <td>112</td>\n",
              "      <td>0</td>\n",
              "      <td>1</td>\n",
              "      <td>0</td>\n",
              "      <td>1</td>\n",
              "      <td>0</td>\n",
              "      <td>0</td>\n",
              "    </tr>\n",
              "    <tr>\n",
              "      <th>3</th>\n",
              "      <td>Kidney_mor_4</td>\n",
              "      <td>37</td>\n",
              "      <td>1</td>\n",
              "      <td>17</td>\n",
              "      <td>51</td>\n",
              "      <td>1</td>\n",
              "      <td>48.0</td>\n",
              "      <td>1.3</td>\n",
              "      <td>88</td>\n",
              "      <td>3.3</td>\n",
              "      <td>6.5</td>\n",
              "      <td>21.0</td>\n",
              "      <td>12.0</td>\n",
              "      <td>0.4</td>\n",
              "      <td>138.0</td>\n",
              "      <td>4.9</td>\n",
              "      <td>99.0</td>\n",
              "      <td>519.0</td>\n",
              "      <td>9.7</td>\n",
              "      <td>29.0</td>\n",
              "      <td>164</td>\n",
              "      <td>1</td>\n",
              "      <td>0</td>\n",
              "      <td>0</td>\n",
              "      <td>0</td>\n",
              "      <td>1</td>\n",
              "      <td>0</td>\n",
              "    </tr>\n",
              "    <tr>\n",
              "      <th>4</th>\n",
              "      <td>Kidney_mor_5</td>\n",
              "      <td>67</td>\n",
              "      <td>1</td>\n",
              "      <td>82</td>\n",
              "      <td>50</td>\n",
              "      <td>1</td>\n",
              "      <td>64.0</td>\n",
              "      <td>11.9</td>\n",
              "      <td>11</td>\n",
              "      <td>4.4</td>\n",
              "      <td>6.7</td>\n",
              "      <td>1.0</td>\n",
              "      <td>12.0</td>\n",
              "      <td>1.2</td>\n",
              "      <td>142.0</td>\n",
              "      <td>5.9</td>\n",
              "      <td>17.0</td>\n",
              "      <td>38.0</td>\n",
              "      <td>8.8</td>\n",
              "      <td>31.1</td>\n",
              "      <td>144</td>\n",
              "      <td>0</td>\n",
              "      <td>1</td>\n",
              "      <td>0</td>\n",
              "      <td>1</td>\n",
              "      <td>0</td>\n",
              "      <td>0</td>\n",
              "    </tr>\n",
              "  </tbody>\n",
              "</table>\n",
              "</div>"
            ],
            "text/plain": [
              "        Patient  Age  ...  Donor_Living  Donor_Non-heart beating\n",
              "0  Kidney_mor_1   39  ...             0                        0\n",
              "1  Kidney_mor_2   56  ...             1                        0\n",
              "2  Kidney_mor_3   40  ...             0                        0\n",
              "3  Kidney_mor_4   37  ...             1                        0\n",
              "4  Kidney_mor_5   67  ...             0                        0\n",
              "\n",
              "[5 rows x 27 columns]"
            ]
          },
          "metadata": {
            "tags": []
          },
          "execution_count": 7
        }
      ]
    },
    {
      "cell_type": "markdown",
      "metadata": {
        "id": "nuZMRCLCM5Z5"
      },
      "source": [
        "# Next Step Should be an EDA"
      ]
    },
    {
      "cell_type": "code",
      "metadata": {
        "colab": {
          "base_uri": "https://localhost:8080/"
        },
        "id": "nC0qtPu7-5jr",
        "outputId": "cbb07b6f-f53e-4ff5-9c58-5e26f73e9d03"
      },
      "source": [
        "corr_matrix = dataset.corr()\r\n",
        "corr_matrix[\"Survival days after transplantation\"].sort_values(ascending=False)"
      ],
      "execution_count": null,
      "outputs": [
        {
          "output_type": "execute_result",
          "data": {
            "text/plain": [
              "Survival days after transplantation    1.000000\n",
              "K                                      0.052202\n",
              "ABO compatibility_Identical            0.046546\n",
              "Albumin                                0.026723\n",
              "Donor_Living                           0.009639\n",
              "Protein                                0.002891\n",
              "Donor_Deceased                        -0.004207\n",
              "CI                                    -0.007737\n",
              "Glucose                               -0.009201\n",
              "Hematocrit                            -0.014441\n",
              "WBC                                   -0.019031\n",
              "Hemoglobin                            -0.025998\n",
              "Retrasplant                           -0.027839\n",
              "ABO compatibility_Incompatible        -0.028322\n",
              "Platelet                              -0.028917\n",
              " Total bilirubin                      -0.030735\n",
              "ABO compatibility_Compatible          -0.032226\n",
              "Age                                   -0.035401\n",
              "SGOT                                  -0.038450\n",
              "BUN                                   -0.041151\n",
              "Creatinine                            -0.042728\n",
              "Donor_Non-heart beating               -0.054460\n",
              "SGPT                                  -0.055372\n",
              "Unnamed: 16                           -0.059235\n",
              "Sex                                   -0.059303\n",
              "Weight                                -0.060024\n",
              "Name: Survival days after transplantation, dtype: float64"
            ]
          },
          "metadata": {
            "tags": []
          },
          "execution_count": 10
        }
      ]
    },
    {
      "cell_type": "code",
      "metadata": {
        "id": "LTTbyM2g4tl0",
        "colab": {
          "base_uri": "https://localhost:8080/",
          "height": 295
        },
        "outputId": "aaa573df-8cc8-4710-c6ed-4487575a4032"
      },
      "source": [
        "age_sorted = np.sort(dataset['Age'])\r\n",
        "average_age = np.mean(dataset['Age'])\r\n",
        "\r\n",
        "fig, ax = plt.subplots(1, figsize=(8, 4))\r\n",
        "\r\n",
        "plt.hist(dataset['Age'], bins=int(dataset['Age'].max()))\r\n",
        "plt.axvline(np.mean(dataset['Age']), c='r', ls='--')\r\n",
        "\r\n",
        "ax.set_xlabel('Patient Age')\r\n",
        "ax.set_ylabel('Occurances')\r\n",
        "ax.set_title('Distribution of Patient Age')\r\n",
        "\r\n",
        "ax.grid(c='k', ls='--', alpha=.4)\r\n",
        "plt.savefig('distribution_of_patient_age.png')\r\n",
        "plt.show()"
      ],
      "execution_count": null,
      "outputs": [
        {
          "output_type": "display_data",
          "data": {
            "image/png": "[encoded data removed]",
            "text/plain": [
              "<Figure size 576x288 with 1 Axes>"
            ]
          },
          "metadata": {
            "tags": [],
            "needs_background": "light"
          }
        }
      ]
    },
    {
      "cell_type": "markdown",
      "metadata": {
        "id": "9yMrwYZQtqoR"
      },
      "source": [
        "# Pediatric Transplants\r\n",
        "\r\n",
        "Kidney transplant in pediatric suffer from different complications than AKT, that's why I am droping all of the patients with less than 20 yo. \r\n",
        "\r\n",
        "Source: [Pediatric kidney transplantation is different from adult kidney transplantation](https://www.ncbi.nlm.nih.gov/pmc/articles/PMC6106688/)"
      ]
    },
    {
      "cell_type": "code",
      "metadata": {
        "id": "kmLJLKkfuYNh"
      },
      "source": [
        "dataset_adult = dataset.loc[dataset['Age'] > 20]"
      ],
      "execution_count": null,
      "outputs": []
    },
    {
      "cell_type": "code",
      "metadata": {
        "colab": {
          "base_uri": "https://localhost:8080/"
        },
        "id": "0N82U2nLwsag",
        "outputId": "e173262f-7c33-4258-90e6-d46a720c6cec"
      },
      "source": [
        "dataset_adult.shape"
      ],
      "execution_count": null,
      "outputs": [
        {
          "output_type": "execute_result",
          "data": {
            "text/plain": [
              "(783, 27)"
            ]
          },
          "metadata": {
            "tags": []
          },
          "execution_count": 13
        }
      ]
    },
    {
      "cell_type": "markdown",
      "metadata": {
        "id": "bmSuf96t2qKb"
      },
      "source": [
        "# Kaplan Meier Survival Stimator"
      ]
    },
    {
      "cell_type": "markdown",
      "metadata": {
        "id": "jlCF8KKj2v1G"
      },
      "source": [
        "We will need to creater another column, where all the values are 1, so to represent that all of the patients died"
      ]
    },
    {
      "cell_type": "code",
      "metadata": {
        "id": "Fzb8MEvw2t6o"
      },
      "source": [
        "dataset['observed'] = [1 if x > 0 else 0 for x in dataset[\"Survival days after transplantation\"]] "
      ],
      "execution_count": null,
      "outputs": []
    },
    {
      "cell_type": "code",
      "metadata": {
        "colab": {
          "base_uri": "https://localhost:8080/"
        },
        "id": "INTCVo2g4GpD",
        "outputId": "b6a88b6b-3003-4a00-95e3-bc0c3caa11a2"
      },
      "source": [
        "kmf = KaplanMeierFitter()\r\n",
        "T = dataset[\"Survival days after transplantation\"]\r\n",
        "E = dataset[\"observed\"]\r\n",
        "\r\n",
        "kmf.fit(T, event_observed=E)"
      ],
      "execution_count": null,
      "outputs": [
        {
          "output_type": "execute_result",
          "data": {
            "text/plain": [
              "<lifelines.KaplanMeierFitter:\"KM_estimate\", fitted with 803 total observations, 8 right-censored observations>"
            ]
          },
          "metadata": {
            "tags": []
          },
          "execution_count": 9
        }
      ]
    },
    {
      "cell_type": "code",
      "metadata": {
        "colab": {
          "base_uri": "https://localhost:8080/",
          "height": 295
        },
        "id": "_MrtSo8y5RMv",
        "outputId": "b6624abc-0ea7-47e4-f51b-de58c7cb0b11"
      },
      "source": [
        "kmf.survival_function_.plot()\r\n",
        "plt.title('Survival function of KTM');"
      ],
      "execution_count": null,
      "outputs": [
        {
          "output_type": "display_data",
          "data": {
            "image/png": "[encoded data removed]",
            "text/plain": [
              "<Figure size 432x288 with 1 Axes>"
            ]
          },
          "metadata": {
            "tags": [],
            "needs_background": "light"
          }
        }
      ]
    },
    {
      "cell_type": "markdown",
      "metadata": {
        "id": "7_ZKMU407hxZ"
      },
      "source": [
        "# Survival Fit trees"
      ]
    },
    {
      "cell_type": "code",
      "metadata": {
        "id": "656AueyD5ZJr",
        "colab": {
          "base_uri": "https://localhost:8080/"
        },
        "outputId": "82d5085c-3656-4f95-c6d3-b56b462114b1"
      },
      "source": [
        "!pip install scikit-survival\r\n",
        "\r\n"
      ],
      "execution_count": null,
      "outputs": [
        {
          "output_type": "stream",
          "text": [
            "Requirement already satisfied: scikit-survival in /usr/local/lib/python3.6/dist-packages (0.14.0)\n",
            "Requirement already satisfied: scikit-learn<0.24,>=0.22.0 in /usr/local/lib/python3.6/dist-packages (from scikit-survival) (0.22.2.post1)\n",
            "Requirement already satisfied: pandas>=0.21 in /usr/local/lib/python3.6/dist-packages (from scikit-survival) (1.1.5)\n",
            "Requirement already satisfied: joblib in /usr/local/lib/python3.6/dist-packages (from scikit-survival) (1.0.0)\n",
            "Requirement already satisfied: scipy!=1.3.0,>=1.0 in /usr/local/lib/python3.6/dist-packages (from scikit-survival) (1.4.1)\n",
            "Requirement already satisfied: cvxpy>=1.0 in /usr/local/lib/python3.6/dist-packages (from scikit-survival) (1.0.31)\n",
            "Requirement already satisfied: osqp!=0.6.0,!=0.6.1 in /usr/local/lib/python3.6/dist-packages (from scikit-survival) (0.6.2)\n",
            "Requirement already satisfied: numexpr in /usr/local/lib/python3.6/dist-packages (from scikit-survival) (2.7.2)\n",
            "Requirement already satisfied: cvxopt in /usr/local/lib/python3.6/dist-packages (from scikit-survival) (1.2.5)\n",
            "Requirement already satisfied: numpy in /usr/local/lib/python3.6/dist-packages (from scikit-survival) (1.19.5)\n",
            "Requirement already satisfied: pytz>=2017.2 in /usr/local/lib/python3.6/dist-packages (from pandas>=0.21->scikit-survival) (2018.9)\n",
            "Requirement already satisfied: python-dateutil>=2.7.3 in /usr/local/lib/python3.6/dist-packages (from pandas>=0.21->scikit-survival) (2.8.1)\n",
            "Requirement already satisfied: multiprocess in /usr/local/lib/python3.6/dist-packages (from cvxpy>=1.0->scikit-survival) (0.70.11.1)\n",
            "Requirement already satisfied: scs>=1.1.3 in /usr/local/lib/python3.6/dist-packages (from cvxpy>=1.0->scikit-survival) (2.1.2)\n",
            "Requirement already satisfied: ecos>=2 in /usr/local/lib/python3.6/dist-packages (from cvxpy>=1.0->scikit-survival) (2.0.7.post1)\n",
            "Requirement already satisfied: qdldl in /usr/local/lib/python3.6/dist-packages (from osqp!=0.6.0,!=0.6.1->scikit-survival) (0.1.5.post0)\n",
            "Requirement already satisfied: six>=1.5 in /usr/local/lib/python3.6/dist-packages (from python-dateutil>=2.7.3->pandas>=0.21->scikit-survival) (1.15.0)\n",
            "Requirement already satisfied: dill>=0.3.3 in /usr/local/lib/python3.6/dist-packages (from multiprocess->cvxpy>=1.0->scikit-survival) (0.3.3)\n"
          ],
          "name": "stdout"
        }
      ]
    },
    {
      "cell_type": "code",
      "metadata": {
        "id": "JcslsgCo8IYh"
      },
      "source": [
        "y = dataset[[\"observed\", \"Survival days after transplantation\"]]\r\n",
        "X = dataset[dataset.columns.difference(['Survival days after transplantation', 'observed'])]\r\n"
      ],
      "execution_count": null,
      "outputs": []
    },
    {
      "cell_type": "code",
      "metadata": {
        "id": "BbUY0VkxbVc7"
      },
      "source": [
        "X = X.drop(\"Patient\", axis= 1)"
      ],
      "execution_count": null,
      "outputs": []
    },
    {
      "cell_type": "code",
      "metadata": {
        "id": "PvroN2o3_1Gb"
      },
      "source": [
        "y['observed'] = y['observed'].astype('bool')"
      ],
      "execution_count": null,
      "outputs": []
    },
    {
      "cell_type": "code",
      "metadata": {
        "id": "-a_hM-FwPwFa"
      },
      "source": [
        "from sklearn.model_selection import train_test_split"
      ],
      "execution_count": null,
      "outputs": []
    },
    {
      "cell_type": "code",
      "metadata": {
        "id": "aJSFiSR2Tw3K"
      },
      "source": [
        "X, X_test, y, y_test = train_test_split(X, y, test_size=0.25)\r\n"
      ],
      "execution_count": null,
      "outputs": []
    },
    {
      "cell_type": "code",
      "metadata": {
        "colab": {
          "base_uri": "https://localhost:8080/",
          "height": 202
        },
        "id": "cMfzz9TiF-QO",
        "outputId": "ac7a76da-424e-436b-86f4-4edcc9439968"
      },
      "source": [
        "y.head()"
      ],
      "execution_count": null,
      "outputs": [
        {
          "output_type": "execute_result",
          "data": {
            "text/html": [
              "<div>\n",
              "<style scoped>\n",
              "    .dataframe tbody tr th:only-of-type {\n",
              "        vertical-align: middle;\n",
              "    }\n",
              "\n",
              "    .dataframe tbody tr th {\n",
              "        vertical-align: top;\n",
              "    }\n",
              "\n",
              "    .dataframe thead th {\n",
              "        text-align: right;\n",
              "    }\n",
              "</style>\n",
              "<table border=\"1\" class=\"dataframe\">\n",
              "  <thead>\n",
              "    <tr style=\"text-align: right;\">\n",
              "      <th></th>\n",
              "      <th>observed</th>\n",
              "      <th>Survival days after transplantation</th>\n",
              "    </tr>\n",
              "  </thead>\n",
              "  <tbody>\n",
              "    <tr>\n",
              "      <th>149</th>\n",
              "      <td>True</td>\n",
              "      <td>61</td>\n",
              "    </tr>\n",
              "    <tr>\n",
              "      <th>603</th>\n",
              "      <td>True</td>\n",
              "      <td>87</td>\n",
              "    </tr>\n",
              "    <tr>\n",
              "      <th>310</th>\n",
              "      <td>True</td>\n",
              "      <td>2</td>\n",
              "    </tr>\n",
              "    <tr>\n",
              "      <th>697</th>\n",
              "      <td>True</td>\n",
              "      <td>2</td>\n",
              "    </tr>\n",
              "    <tr>\n",
              "      <th>720</th>\n",
              "      <td>True</td>\n",
              "      <td>54</td>\n",
              "    </tr>\n",
              "  </tbody>\n",
              "</table>\n",
              "</div>"
            ],
            "text/plain": [
              "     observed  Survival days after transplantation\n",
              "149      True                                   61\n",
              "603      True                                   87\n",
              "310      True                                    2\n",
              "697      True                                    2\n",
              "720      True                                   54"
            ]
          },
          "metadata": {
            "tags": []
          },
          "execution_count": 126
        }
      ]
    },
    {
      "cell_type": "code",
      "metadata": {
        "id": "GJ7J7To8JWXN"
      },
      "source": [
        "y = y.to_records(index= False)\r\n"
      ],
      "execution_count": null,
      "outputs": []
    },
    {
      "cell_type": "code",
      "metadata": {
        "id": "wSdJxYf9SGoq"
      },
      "source": [
        "rsf = RandomSurvivalForest(n_estimators=100,\r\n",
        "                           min_samples_split=10,\r\n",
        "                           min_samples_leaf=15,\r\n",
        "                           max_features=\"sqrt\",\r\n",
        "                           n_jobs=-1,\r\n",
        "                           random_state=12)"
      ],
      "execution_count": null,
      "outputs": []
    },
    {
      "cell_type": "code",
      "metadata": {
        "colab": {
          "base_uri": "https://localhost:8080/"
        },
        "id": "4phI2qxng0ng",
        "outputId": "42d64aba-420c-4d6b-c9c1-d26772e8826e"
      },
      "source": [
        "rsf.fit(X, y)"
      ],
      "execution_count": null,
      "outputs": [
        {
          "output_type": "execute_result",
          "data": {
            "text/plain": [
              "RandomSurvivalForest(bootstrap=True, max_depth=None, max_features='sqrt',\n",
              "                     max_leaf_nodes=None, max_samples=None, min_samples_leaf=15,\n",
              "                     min_samples_split=10, min_weight_fraction_leaf=0.0,\n",
              "                     n_estimators=100, n_jobs=-1, oob_score=False,\n",
              "                     random_state=12, verbose=0, warm_start=False)"
            ]
          },
          "metadata": {
            "tags": []
          },
          "execution_count": 129
        }
      ]
    },
    {
      "cell_type": "code",
      "metadata": {
        "id": "T6u0xAghSa_2"
      },
      "source": [
        "y_test = y_test.to_records(index = False)"
      ],
      "execution_count": null,
      "outputs": []
    },
    {
      "cell_type": "code",
      "metadata": {
        "colab": {
          "base_uri": "https://localhost:8080/"
        },
        "id": "UA5Qs5QtT31t",
        "outputId": "394e6793-7659-4966-8957-d7c877d70598"
      },
      "source": [
        "rsf.score(X_test, y_test)"
      ],
      "execution_count": null,
      "outputs": [
        {
          "output_type": "execute_result",
          "data": {
            "text/plain": [
              "0.48592685084022685"
            ]
          },
          "metadata": {
            "tags": []
          },
          "execution_count": 132
        }
      ]
    },
    {
      "cell_type": "markdown",
      "metadata": {
        "id": "EVUTqae4-KnC"
      },
      "source": [
        "# Deep Survival"
      ]
    },
    {
      "cell_type": "code",
      "metadata": {
        "colab": {
          "base_uri": "https://localhost:8080/"
        },
        "id": "rULQvlfb-N0_",
        "outputId": "1ea7d34a-0db3-4c90-d27c-cde3613be560"
      },
      "source": [
        "pip install pycox"
      ],
      "execution_count": null,
      "outputs": [
        {
          "output_type": "stream",
          "text": [
            "Collecting pycox\n",
            "\u001b[?25l  Downloading https://files.pythonhosted.org/packages/33/33/8166da2d22ff30305aa0c10e0c6124ef5d3b60b5b0418387bb805bd6b751/pycox-0.2.1-py3-none-any.whl (73kB)\n",
            "\u001b[K     |████████████████████████████████| 81kB 3.9MB/s \n",
            "\u001b[?25hRequirement already satisfied: requests>=2.22.0 in /usr/local/lib/python3.6/dist-packages (from pycox) (2.23.0)\n",
            "Requirement already satisfied: h5py>=2.9.0 in /usr/local/lib/python3.6/dist-packages (from pycox) (2.10.0)\n",
            "Requirement already satisfied: feather-format>=0.4.0 in /usr/local/lib/python3.6/dist-packages (from pycox) (0.4.1)\n",
            "Requirement already satisfied: numba>=0.44 in /usr/local/lib/python3.6/dist-packages (from pycox) (0.48.0)\n",
            "Collecting torchtuples>=0.2.0\n",
            "\u001b[?25l  Downloading https://files.pythonhosted.org/packages/95/70/93eb42c0a46ef94b3885b8e5611a8019d00522a9ab7343d4ca25033afd44/torchtuples-0.2.0-py3-none-any.whl (41kB)\n",
            "\u001b[K     |████████████████████████████████| 51kB 4.8MB/s \n",
            "\u001b[?25hRequirement already satisfied: scikit-learn>=0.21.2 in /usr/local/lib/python3.6/dist-packages (from pycox) (0.22.2.post1)\n",
            "Requirement already satisfied: idna<3,>=2.5 in /usr/local/lib/python3.6/dist-packages (from requests>=2.22.0->pycox) (2.10)\n",
            "Requirement already satisfied: urllib3!=1.25.0,!=1.25.1,<1.26,>=1.21.1 in /usr/local/lib/python3.6/dist-packages (from requests>=2.22.0->pycox) (1.24.3)\n",
            "Requirement already satisfied: certifi>=2017.4.17 in /usr/local/lib/python3.6/dist-packages (from requests>=2.22.0->pycox) (2020.12.5)\n",
            "Requirement already satisfied: chardet<4,>=3.0.2 in /usr/local/lib/python3.6/dist-packages (from requests>=2.22.0->pycox) (3.0.4)\n",
            "Requirement already satisfied: numpy>=1.7 in /usr/local/lib/python3.6/dist-packages (from h5py>=2.9.0->pycox) (1.19.5)\n",
            "Requirement already satisfied: six in /usr/local/lib/python3.6/dist-packages (from h5py>=2.9.0->pycox) (1.15.0)\n",
            "Requirement already satisfied: pyarrow>=0.4.0 in /usr/local/lib/python3.6/dist-packages (from feather-format>=0.4.0->pycox) (0.14.1)\n",
            "Requirement already satisfied: setuptools in /usr/local/lib/python3.6/dist-packages (from numba>=0.44->pycox) (51.1.1)\n",
            "Requirement already satisfied: llvmlite<0.32.0,>=0.31.0dev0 in /usr/local/lib/python3.6/dist-packages (from numba>=0.44->pycox) (0.31.0)\n",
            "Requirement already satisfied: pandas>=0.24.2 in /usr/local/lib/python3.6/dist-packages (from torchtuples>=0.2.0->pycox) (1.1.5)\n",
            "Requirement already satisfied: matplotlib>=3.0.3 in /usr/local/lib/python3.6/dist-packages (from torchtuples>=0.2.0->pycox) (3.2.2)\n",
            "Requirement already satisfied: joblib>=0.11 in /usr/local/lib/python3.6/dist-packages (from scikit-learn>=0.21.2->pycox) (1.0.0)\n",
            "Requirement already satisfied: scipy>=0.17.0 in /usr/local/lib/python3.6/dist-packages (from scikit-learn>=0.21.2->pycox) (1.4.1)\n",
            "Requirement already satisfied: pytz>=2017.2 in /usr/local/lib/python3.6/dist-packages (from pandas>=0.24.2->torchtuples>=0.2.0->pycox) (2018.9)\n",
            "Requirement already satisfied: python-dateutil>=2.7.3 in /usr/local/lib/python3.6/dist-packages (from pandas>=0.24.2->torchtuples>=0.2.0->pycox) (2.8.1)\n",
            "Requirement already satisfied: pyparsing!=2.0.4,!=2.1.2,!=2.1.6,>=2.0.1 in /usr/local/lib/python3.6/dist-packages (from matplotlib>=3.0.3->torchtuples>=0.2.0->pycox) (2.4.7)\n",
            "Requirement already satisfied: cycler>=0.10 in /usr/local/lib/python3.6/dist-packages (from matplotlib>=3.0.3->torchtuples>=0.2.0->pycox) (0.10.0)\n",
            "Requirement already satisfied: kiwisolver>=1.0.1 in /usr/local/lib/python3.6/dist-packages (from matplotlib>=3.0.3->torchtuples>=0.2.0->pycox) (1.3.1)\n",
            "Installing collected packages: torchtuples, pycox\n",
            "Successfully installed pycox-0.2.1 torchtuples-0.2.0\n"
          ],
          "name": "stdout"
        }
      ]
    },
    {
      "cell_type": "code",
      "metadata": {
        "id": "gY6SmMK1VMk8"
      },
      "source": [
        "from sklearn.preprocessing import StandardScaler\r\n",
        "from sklearn_pandas import DataFrameMapper \r\n",
        "import torch # For building the networks \r\n",
        "import torchtuples as tt # Some useful functions\r\n",
        "\r\n",
        "from pycox.datasets import metabric\r\n",
        "from pycox.models import DeepHitSingle\r\n",
        "from pycox.evaluation import EvalSurv"
      ],
      "execution_count": null,
      "outputs": []
    },
    {
      "cell_type": "code",
      "metadata": {
        "colab": {
          "base_uri": "https://localhost:8080/",
          "height": 257
        },
        "id": "Qvpg4FtFScET",
        "outputId": "6829c6d9-dced-469b-c6c8-e5cf2102046e"
      },
      "source": [
        "X.head()"
      ],
      "execution_count": null,
      "outputs": [
        {
          "output_type": "execute_result",
          "data": {
            "text/html": [
              "<div>\n",
              "<style scoped>\n",
              "    .dataframe tbody tr th:only-of-type {\n",
              "        vertical-align: middle;\n",
              "    }\n",
              "\n",
              "    .dataframe tbody tr th {\n",
              "        vertical-align: top;\n",
              "    }\n",
              "\n",
              "    .dataframe thead th {\n",
              "        text-align: right;\n",
              "    }\n",
              "</style>\n",
              "<table border=\"1\" class=\"dataframe\">\n",
              "  <thead>\n",
              "    <tr style=\"text-align: right;\">\n",
              "      <th></th>\n",
              "      <th>Total bilirubin</th>\n",
              "      <th>ABO compatibility_Compatible</th>\n",
              "      <th>ABO compatibility_Identical</th>\n",
              "      <th>ABO compatibility_Incompatible</th>\n",
              "      <th>Age</th>\n",
              "      <th>Albumin</th>\n",
              "      <th>BUN</th>\n",
              "      <th>CI</th>\n",
              "      <th>Creatinine</th>\n",
              "      <th>Donor_Deceased</th>\n",
              "      <th>Donor_Living</th>\n",
              "      <th>Donor_Non-heart beating</th>\n",
              "      <th>Glucose</th>\n",
              "      <th>Hematocrit</th>\n",
              "      <th>Hemoglobin</th>\n",
              "      <th>K</th>\n",
              "      <th>Platelet</th>\n",
              "      <th>Protein</th>\n",
              "      <th>Retrasplant</th>\n",
              "      <th>SGOT</th>\n",
              "      <th>SGPT</th>\n",
              "      <th>Sex</th>\n",
              "      <th>Unnamed: 16</th>\n",
              "      <th>WBC</th>\n",
              "      <th>Weight</th>\n",
              "    </tr>\n",
              "  </thead>\n",
              "  <tbody>\n",
              "    <tr>\n",
              "      <th>642</th>\n",
              "      <td>0.30</td>\n",
              "      <td>0</td>\n",
              "      <td>1</td>\n",
              "      <td>0</td>\n",
              "      <td>56</td>\n",
              "      <td>4.1</td>\n",
              "      <td>56.0</td>\n",
              "      <td>11.0</td>\n",
              "      <td>13.8</td>\n",
              "      <td>0</td>\n",
              "      <td>1</td>\n",
              "      <td>0</td>\n",
              "      <td>12</td>\n",
              "      <td>34.2</td>\n",
              "      <td>9.8</td>\n",
              "      <td>4.0</td>\n",
              "      <td>184</td>\n",
              "      <td>7.7</td>\n",
              "      <td>0</td>\n",
              "      <td>23.0</td>\n",
              "      <td>19.0</td>\n",
              "      <td>0</td>\n",
              "      <td>141.0</td>\n",
              "      <td>66.0</td>\n",
              "      <td>49</td>\n",
              "    </tr>\n",
              "    <tr>\n",
              "      <th>498</th>\n",
              "      <td>0.18</td>\n",
              "      <td>1</td>\n",
              "      <td>0</td>\n",
              "      <td>0</td>\n",
              "      <td>48</td>\n",
              "      <td>3.8</td>\n",
              "      <td>61.7</td>\n",
              "      <td>19.0</td>\n",
              "      <td>7.3</td>\n",
              "      <td>0</td>\n",
              "      <td>1</td>\n",
              "      <td>0</td>\n",
              "      <td>79</td>\n",
              "      <td>28.7</td>\n",
              "      <td>12.9</td>\n",
              "      <td>4.8</td>\n",
              "      <td>252</td>\n",
              "      <td>5.9</td>\n",
              "      <td>0</td>\n",
              "      <td>23.0</td>\n",
              "      <td>27.0</td>\n",
              "      <td>0</td>\n",
              "      <td>136.0</td>\n",
              "      <td>61.0</td>\n",
              "      <td>49</td>\n",
              "    </tr>\n",
              "    <tr>\n",
              "      <th>753</th>\n",
              "      <td>0.40</td>\n",
              "      <td>0</td>\n",
              "      <td>1</td>\n",
              "      <td>0</td>\n",
              "      <td>51</td>\n",
              "      <td>4.0</td>\n",
              "      <td>6.0</td>\n",
              "      <td>12.0</td>\n",
              "      <td>1.6</td>\n",
              "      <td>0</td>\n",
              "      <td>1</td>\n",
              "      <td>0</td>\n",
              "      <td>118</td>\n",
              "      <td>32.8</td>\n",
              "      <td>13.2</td>\n",
              "      <td>4.2</td>\n",
              "      <td>259</td>\n",
              "      <td>6.8</td>\n",
              "      <td>0</td>\n",
              "      <td>13.0</td>\n",
              "      <td>22.0</td>\n",
              "      <td>0</td>\n",
              "      <td>141.0</td>\n",
              "      <td>39.0</td>\n",
              "      <td>53</td>\n",
              "    </tr>\n",
              "    <tr>\n",
              "      <th>179</th>\n",
              "      <td>0.50</td>\n",
              "      <td>0</td>\n",
              "      <td>1</td>\n",
              "      <td>0</td>\n",
              "      <td>50</td>\n",
              "      <td>4.4</td>\n",
              "      <td>55.5</td>\n",
              "      <td>113.0</td>\n",
              "      <td>5.2</td>\n",
              "      <td>1</td>\n",
              "      <td>0</td>\n",
              "      <td>0</td>\n",
              "      <td>93</td>\n",
              "      <td>37.0</td>\n",
              "      <td>12.1</td>\n",
              "      <td>6.1</td>\n",
              "      <td>212</td>\n",
              "      <td>6.8</td>\n",
              "      <td>0</td>\n",
              "      <td>16.0</td>\n",
              "      <td>14.0</td>\n",
              "      <td>1</td>\n",
              "      <td>143.0</td>\n",
              "      <td>452.0</td>\n",
              "      <td>68</td>\n",
              "    </tr>\n",
              "    <tr>\n",
              "      <th>776</th>\n",
              "      <td>1.20</td>\n",
              "      <td>0</td>\n",
              "      <td>1</td>\n",
              "      <td>0</td>\n",
              "      <td>33</td>\n",
              "      <td>3.7</td>\n",
              "      <td>55.5</td>\n",
              "      <td>98.0</td>\n",
              "      <td>7.4</td>\n",
              "      <td>0</td>\n",
              "      <td>1</td>\n",
              "      <td>0</td>\n",
              "      <td>86</td>\n",
              "      <td>28.9</td>\n",
              "      <td>12.0</td>\n",
              "      <td>4.7</td>\n",
              "      <td>383</td>\n",
              "      <td>5.5</td>\n",
              "      <td>0</td>\n",
              "      <td>17.0</td>\n",
              "      <td>22.0</td>\n",
              "      <td>1</td>\n",
              "      <td>14.0</td>\n",
              "      <td>16.0</td>\n",
              "      <td>88</td>\n",
              "    </tr>\n",
              "  </tbody>\n",
              "</table>\n",
              "</div>"
            ],
            "text/plain": [
              "      Total bilirubin  ABO compatibility_Compatible  ...    WBC  Weight\n",
              "642              0.30                             0  ...   66.0      49\n",
              "498              0.18                             1  ...   61.0      49\n",
              "753              0.40                             0  ...   39.0      53\n",
              "179              0.50                             0  ...  452.0      68\n",
              "776              1.20                             0  ...   16.0      88\n",
              "\n",
              "[5 rows x 25 columns]"
            ]
          },
          "metadata": {
            "tags": []
          },
          "execution_count": 17
        }
      ]
    },
    {
      "cell_type": "code",
      "metadata": {
        "colab": {
          "base_uri": "https://localhost:8080/"
        },
        "id": "AbNIqtFGSe_B",
        "outputId": "eb7d1fbe-bd5b-41a3-a5ad-961b7a4a0566"
      },
      "source": [
        "X.columns"
      ],
      "execution_count": null,
      "outputs": [
        {
          "output_type": "execute_result",
          "data": {
            "text/plain": [
              "Index([' Total bilirubin', 'ABO compatibility_Compatible',\n",
              "       'ABO compatibility_Identical', 'ABO compatibility_Incompatible', 'Age',\n",
              "       'Albumin', 'BUN', 'CI', 'Creatinine', 'Donor_Deceased', 'Donor_Living',\n",
              "       'Donor_Non-heart beating', 'Glucose ', 'Hematocrit', 'Hemoglobin', 'K',\n",
              "       'Platelet', 'Protein', 'Retrasplant', 'SGOT', 'SGPT', 'Sex',\n",
              "       'Unnamed: 16', 'WBC', 'Weight'],\n",
              "      dtype='object')"
            ]
          },
          "metadata": {
            "tags": []
          },
          "execution_count": 18
        }
      ]
    },
    {
      "cell_type": "code",
      "metadata": {
        "id": "zUCXGLDSVVOK"
      },
      "source": [
        "cols_standardize = [' Total bilirubin', 'Age', 'Albumin', 'BUN', 'CI', 'Creatinine', 'Hematocrit', 'Hemoglobin', 'Glucose ', 'K', 'Platelet', 'Protein', 'SGOT', 'SGPT', 'Unnamed: 16', 'WBC', 'Weight']\r\n",
        "cols_leave = ['ABO compatibility_Identical', 'ABO compatibility_Incompatible', 'Donor_Deceased', 'Donor_Living','Donor_Non-heart beating', 'Sex', 'Retrasplant']\r\n",
        "\r\n",
        "standardize = [([col], StandardScaler()) for col in cols_standardize]\r\n",
        "leave = [(col, None) for col in cols_leave]\r\n",
        "\r\n",
        "x_mapper = DataFrameMapper(standardize + leave)\r\n"
      ],
      "execution_count": null,
      "outputs": []
    },
    {
      "cell_type": "code",
      "metadata": {
        "id": "744Zj10TVHJl"
      },
      "source": [
        "X = x_mapper.fit_transform(X).astype('float32')\r\n",
        "X_test = x_mapper.transform(X_test).astype('float32')\r\n"
      ],
      "execution_count": null,
      "outputs": []
    },
    {
      "cell_type": "code",
      "metadata": {
        "id": "F54xhoLvYwI6"
      },
      "source": [
        "get_target = lambda y: (y['Survival days after transplantation'].values, y['observed'].values)\r\n",
        "y_train = get_target(y)\r\n",
        "y_val = get_target(y_test)\r\n",
        "durations_test, events_test = get_target(y_test)\r\n",
        "val = X_test, y_val"
      ],
      "execution_count": null,
      "outputs": []
    },
    {
      "cell_type": "code",
      "metadata": {
        "id": "6F9QwKKzb9Ug"
      },
      "source": [
        "in_features = X.shape[1]\r\n",
        "num_nodes = [32, 32]\r\n",
        "out_features = 1\r\n",
        "batch_norm = True\r\n",
        "dropout = 0.1\r\n",
        "output_bias = False\r\n",
        "\r\n",
        "net = tt.practical.MLPVanilla(in_features, num_nodes, out_features, batch_norm,\r\n",
        "                              dropout, output_bias=output_bias)"
      ],
      "execution_count": null,
      "outputs": []
    },
    {
      "cell_type": "code",
      "metadata": {
        "id": "GqgD1wuhdL48"
      },
      "source": [
        "from pycox.models import CoxPH"
      ],
      "execution_count": null,
      "outputs": []
    },
    {
      "cell_type": "code",
      "metadata": {
        "id": "dO0UjbiidCbz"
      },
      "source": [
        "model = CoxPH(net, tt.optim.Adam)"
      ],
      "execution_count": null,
      "outputs": []
    },
    {
      "cell_type": "code",
      "metadata": {
        "colab": {
          "base_uri": "https://localhost:8080/",
          "height": 283
        },
        "id": "g6x4PZeQdV1i",
        "outputId": "8d644d35-83c8-49cb-d0f5-452a9f590d19"
      },
      "source": [
        "batch_size = 256\r\n",
        "lrfinder = model.lr_finder(X, y_train, batch_size, tolerance=10)\r\n",
        "_ = lrfinder.plot()"
      ],
      "execution_count": null,
      "outputs": [
        {
          "output_type": "display_data",
          "data": {
            "image/png": "[encoded data removed]",
            "text/plain": [
              "<Figure size 432x288 with 1 Axes>"
            ]
          },
          "metadata": {
            "tags": [],
            "needs_background": "light"
          }
        }
      ]
    },
    {
      "cell_type": "code",
      "metadata": {
        "id": "ubKvmXXkd8R5"
      },
      "source": [
        "model.optimizer.set_lr(0.01)"
      ],
      "execution_count": null,
      "outputs": []
    },
    {
      "cell_type": "code",
      "metadata": {
        "id": "KONKLqwXeCh3"
      },
      "source": [
        "epochs = 100\r\n",
        "callbacks = [tt.callbacks.EarlyStopping()]\r\n",
        "verbose = True"
      ],
      "execution_count": null,
      "outputs": []
    },
    {
      "cell_type": "code",
      "metadata": {
        "colab": {
          "base_uri": "https://localhost:8080/"
        },
        "id": "gzYQBZrxeLHG",
        "outputId": "ebeaa9b8-41fc-45a5-8f20-a0d5ed87dd68"
      },
      "source": [
        "%%time\r\n",
        "log = model.fit(X, y_train, batch_size, epochs, callbacks, verbose,\r\n",
        "                val_data=val, val_batch_size=batch_size)"
      ],
      "execution_count": null,
      "outputs": [
        {
          "output_type": "stream",
          "text": [
            "0:\t[0s / 0s],\t\ttrain_loss: 4.3790,\tval_loss: 4.3535\n",
            "1:\t[0s / 0s],\t\ttrain_loss: 4.2327,\tval_loss: 4.3704\n",
            "2:\t[0s / 0s],\t\ttrain_loss: 4.2205,\tval_loss: 4.3820\n",
            "3:\t[0s / 0s],\t\ttrain_loss: 4.1960,\tval_loss: 4.3825\n",
            "4:\t[0s / 0s],\t\ttrain_loss: 4.1992,\tval_loss: 4.3822\n",
            "5:\t[0s / 0s],\t\ttrain_loss: 4.1824,\tval_loss: 4.3651\n",
            "6:\t[0s / 0s],\t\ttrain_loss: 4.1735,\tval_loss: 4.3513\n",
            "7:\t[0s / 0s],\t\ttrain_loss: 4.1546,\tval_loss: 4.3483\n",
            "8:\t[0s / 0s],\t\ttrain_loss: 4.1431,\tval_loss: 4.3511\n",
            "9:\t[0s / 0s],\t\ttrain_loss: 4.1557,\tval_loss: 4.3517\n",
            "10:\t[0s / 0s],\t\ttrain_loss: 4.1518,\tval_loss: 4.3502\n",
            "11:\t[0s / 0s],\t\ttrain_loss: 4.1472,\tval_loss: 4.3555\n",
            "12:\t[0s / 0s],\t\ttrain_loss: 4.1325,\tval_loss: 4.3695\n",
            "13:\t[0s / 0s],\t\ttrain_loss: 4.1049,\tval_loss: 4.3819\n",
            "14:\t[0s / 0s],\t\ttrain_loss: 4.1133,\tval_loss: 4.3837\n",
            "15:\t[0s / 0s],\t\ttrain_loss: 4.1087,\tval_loss: 4.3891\n",
            "16:\t[0s / 0s],\t\ttrain_loss: 4.0949,\tval_loss: 4.3903\n",
            "17:\t[0s / 0s],\t\ttrain_loss: 4.0789,\tval_loss: 4.3898\n",
            "CPU times: user 280 ms, sys: 9.48 ms, total: 289 ms\n",
            "Wall time: 300 ms\n"
          ],
          "name": "stdout"
        }
      ]
    },
    {
      "cell_type": "code",
      "metadata": {
        "colab": {
          "base_uri": "https://localhost:8080/",
          "height": 266
        },
        "id": "wj7FLmdxeTU7",
        "outputId": "9a92e536-4656-4cfd-cd0b-dd5e93f535ff"
      },
      "source": [
        "_ = log.plot()"
      ],
      "execution_count": null,
      "outputs": [
        {
          "output_type": "display_data",
          "data": {
            "image/png": "[encoded data removed]",
            "text/plain": [
              "<Figure size 432x288 with 1 Axes>"
            ]
          },
          "metadata": {
            "tags": [],
            "needs_background": "light"
          }
        }
      ]
    },
    {
      "cell_type": "code",
      "metadata": {
        "id": "YehWYsb0e_Pi"
      },
      "source": [
        ""
      ],
      "execution_count": null,
      "outputs": []
    }
  ]
}